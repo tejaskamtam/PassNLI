{
 "cells": [
  {
   "cell_type": "code",
   "execution_count": 3,
   "metadata": {},
   "outputs": [
    {
     "name": "stdout",
     "output_type": "stream",
     "text": [
      "{'input_text': {'table': {'column_header': ['article_title', 'image', 'occupation', 'birth_place', 'name', 'known_for', 'website'], 'row_number': [1, 1, 1, 1, 1, 1, 1], 'content': ['james galea\\n', 'jamesgalea.jpg', 'magician , illusionist , actor', 'sydney , australia', 'james galea', '673 king st , band of magicians', '-lsb- http://www.jamesgalea.com/ www.jamesgalea.com -rsb-']}, 'context': 'james galea\\n'}, 'target_text': \"james galea is an australian magician and actor based in sydney and los angeles .\\nhe is also the founding member of the band of magicians , magic 's first supergroup .\\n\"}\n",
      "{'input_text': {'table': {'column_header': ['background', 'article_title', 'years_active', 'name', 'birth_name', 'occupation', 'associated_acts', 'image_size'], 'row_number': [1, 1, 1, 1, 1, 1, 1, 1], 'content': ['solo_singer', 'jani lane\\n', '1982 -- 2011', 'jani lane', 'john kennedy oswald', 'singer-songwriter , musician', 'warrant , saints of the underground , great white , plain jane , sean e. river project', '120']}, 'context': 'jani lane\\n'}, 'target_text': \"jani lane -lrb- february 1 , 1964 -- august 11 , 2011 -rrb- was an american recording artist and the lead vocalist , frontman , lyricist and main songwriter for the glam metal band warrant .\\nfrom hollywood , california , the band experienced success from 1989 -- 1996 with five albums reaching international sales of over 10 million .\\nlane left warrant in 2004 and again in 2008 after a brief reunion .\\nlane also released a solo album `` back down to one '' in 2003 and the album `` love the sin , hate the sinner '' with a new group `` saints of the underground '' in 2008 .\\nlane contributed his lead vocals and song writing to many various projects throughout his career .\\n\"}\n",
      "{'input_text': {'table': {'column_header': ['office', 'residence', 'article_title', 'nationality', 'alma_mater', 'profession', 'party', 'term_start', 'name', 'birth_place', 'occupation', 'birth_date', 'alongside', 'imagesize'], 'row_number': [1, 1, 1, 1, 1, 1, 1, 1, 1, 1, 1, 1, 1, 1], 'content': ['deputy of public security director of the state oceanic administration deputy minister', 'beijing', 'meng hongwei\\n', 'chinese', 'peking university', 'law', 'communist party of china', '18 march 2013', 'meng hongwei zh-hans-cn 孟宏伟', 'harbin , heilongjiang', 'politician', '1953 11', 'li meng hongwei , chen zhimin , huang ming , fu dongsheng zhenghua , li wei , liu yanping , yang huanning , liu jinguo ,', '225px']}, 'context': 'meng hongwei\\n'}, 'target_text': \"meng hongwei -lrb- ; born november 1953 -rrb- is a politician of people 's republic of china .\\n\"}\n",
      "{'input_text': {'table': {'column_header': ['article_title', 'nationality', 'birth_place', 'name', 'birth_date', 'death_place', 'death_date', 'alt'], 'row_number': [1, 1, 1, 1, 1, 1, 1, 1], 'content': ['jason spencer\\n', 'british', 'nottingham', 'jason spencer', '03 june 1989', 'nottingham', '06 march 2007', 'jason spencer']}, 'context': 'jason spencer\\n'}, 'target_text': 'jason spencer was an english teenager murdered on 6 march 2007 in sherwood , nottingham .\\nreuben valentine later pleaded guilty to murder in a trial at the nottingham crown court in october 2007 .\\nvalentine initially escaped but was later arrested .\\n'}\n",
      "{'input_text': {'table': {'column_header': ['position', 'statyear', 'team', 'article_title', 'statlabel', 'image', 'caption', 'debutdate', 'debutteam', 'name', 'birth_place', 'birth_date', 'number', 'image_size', 'statvalue', 'debutyear', 'throws', 'bats'], 'row_number': [1, 1, 1, 1, 1, 1, 1, 1, 1, 1, 1, 1, 1, 1, 1, 1, 1, 1], 'content': ['outfielder', 'august 26 , 2015', 'detroit tigers', 'j. d. martinez\\n', 'batting average hits home runs runs batted in', 'j. d. martinez on may 14 , 2014.jpg', 'martinez with the detroit tigers', 'july 30', 'houston astros', 'j. d. martinez', 'miami , florida', '21 august 1987', '28', '250px', '.277 502 81 289', '2011', 'right', 'right']}, 'context': 'j. d. martinez\\n'}, 'target_text': \"julio daniel `` j. d. '' martinez -lrb- born august 21 , 1987 -rrb- is an american professional baseball outfielder for the detroit tigers of major league baseball -lrb- mlb -rrb- .\\nhe has also played in mlb for the houston astros .\\nmartinez is of cuban descent .\\nmartinez has primarily been a left fielder throughout his career , but currently plays right field for the tigers .\\n\"}\n",
      "{'input_text': {'table': {'column_header': ['article_title', 'image', 'caption', 'sport', 'weight', 'name', 'birth_place', 'country', 'birth_date', 'fullname', 'death_place', 'height', 'death_date', 'imagesize'], 'row_number': [1, 1, 1, 1, 1, 1, 1, 1, 1, 1, 1, 1, 1, 1], 'content': ['james bradford -lrb- weightlifter -rrb-\\n', 'james bradford 1960.jpg', 'james bradford at the 1960 olympics', 'weightlifting', '110 -- 123 kg', 'jim bradford', 'washington , d.c.', 'united states', '1 november 1928', 'james edward bradford', 'silver spring , maryland', '6 ft 0 in m', '13 september 2013', '250px']}, 'context': 'james bradford -lrb- weightlifter -rrb-\\n'}, 'target_text': \"james edward bradford -lrb- november 1 , 1928 -- september 13 , 2013 -rrb- was an american heavyweight weightlifter .\\nhe competed at two olympics -lrb- 1952 and 1960 -rrb- and four world championships -lrb- 1951 , 1954 , 1955 and 1959 -rrb- and won silver medals on all occasions .\\nbradford won the aau heavyweight titles in 1960 and 1961 .\\nten years prior , he won the aau junior championship in 1950 .\\nto his own misfortune , bradford had to compete against the greatest lifters of all time .\\nat the 1952 olympics and 1951 world championships he lost to john davis , and at the 1959 world championships and 1960 olympics to yury vlasov .\\nbefore 1956 bradford completed his army service .\\nalthough he qualified for the 1956 olympics he chose to stay at home with his pregnant wife .\\nbradford graduated from armstrong high school in 1946 and from howard university in 1974 .\\nhe then received a master 's degree in library science from federal city college in 1976 , and a master 's degree in management and supervision from a washington branch of central michigan university in 1979 .\\nfor many years he worked as a bookbinder and researcher at the library of congress in washington ; he also served one term as chapter president of the american federation of state , county and municipal employees .\\nbradford died of congestive heart failure , aged 84 .\\nhe was survived by his wife of 60 years , grace robertson bradford , and three children , james e. bradford jr. , sharleen b. kavetski and jo bradford .\\n\"}\n",
      "{'input_text': {'table': {'column_header': ['ethnicity', 'article_title', 'nationality', 'highestranking', 'sport', 'name', 'country', 'worlds', 'born', 'fullname'], 'row_number': [1, 1, 1, 1, 1, 1, 1, 1, 1, 1], 'content': ['maori', 'derek pomana\\n', 'new zealander', '1', 'powerlifting', 'derek pomana', 'new zealand', 'ipf', '1966', 'derek pomana']}, 'context': 'derek pomana\\n'}, 'target_text': \"derek pomana -lrb- poor-mah-nah -rrb- is a former three-time world champion powerlifter in the 110kg division .\\npomana set a world record in 1996 at salzburg by benchpressing 250kg 's -lrb- 551.6 pounds -rrb- at a bodyweight of 110 kg 's -lrb- 242.05 pounds -rrb- which was beaten 2 minutes later .\\nas of 2015 , he holds the new zealand record for a combined -lrb- deadlift , squat , benchpress -rrb- total of 977.5 kg 's , pomana is of māori descent .\\n\"}\n",
      "{'input_text': {'table': {'column_header': ['nationalteam', 'position', 'nationalcaps', 'nationalgoals', 'article_title', 'nationalyears', 'years', 'birth_place', 'name', 'birth_date', 'clubs', 'height'], 'row_number': [1, 1, 1, 1, 1, 1, 1, 1, 1, 1, 1, 1], 'content': ['switzerland', 'defender', '25', '?', 'rené hasler\\n', '1972-1977', '1971-1976 1976-1979 1979-1983', 'lucerne , switzerland', 'rené hasler', '18 june 1948', 'fc basel neuchâtel xamax fc basel', '1.70 0']}, 'context': 'rené hasler\\n'}, 'target_text': 'rené hasler -lrb- born 18 june 1948 in lucerne -rrb- is a swiss former footballer who played for fc basel for most of his career , and the swiss national team .\\n'}\n",
      "{'input_text': {'table': {'column_header': ['position', 'clubs', 'youthclubs', 'goals', 'currentclub', 'caps', 'article_title', 'clubnumber', 'birth_place', 'name', 'birth_date', 'youthyears', 'fullname', 'height'], 'row_number': [1, 1, 1, 1, 1, 1, 1, 1, 1, 1, 1, 1, 1, 1], 'content': ['defensive midfielder', 'são paulo santo andré', 'são paulo santo andré ypiranga-ba bahia', '0 0', 'sporting cp', '13 0', 'bruno paulista\\n', '30', 'nova odessa , brazil', 'bruno paulista', '21 august 1995', '2012 -- 2014', 'bruno jacinto da silva', '1.90']}, 'context': 'bruno paulista\\n'}, 'target_text': 'bruno jacinto da silva -lrb- born 21 august 1995 -rrb- , known as bruno paulista , is a brazilian footballer who plays for sporting cp as a defensive midfielder .\\n'}\n",
      "{'input_text': {'table': {'column_header': ['position', 'article_title', 'currentclub', 'clubnumber', 'birth_place', 'name', 'birth_date'], 'row_number': [1, 1, 1, 1, 1, 1, 1], 'content': ['defender', 'parwinder singh\\n', 'ongc', '4', 'india', 'parwinder singh', '07 august 1985']}, 'context': 'parwinder singh\\n'}, 'target_text': 'parwinder singh -lrb- born 7 august 1985 is an indian footballer who plays as a defender for ongc in the i-league .\\n'}\n",
      "{'input_text': {'table': {'column_header': ['residence', 'children', 'article_title', 'partner', 'years_active', 'birth_place', 'name', 'birth_name', 'birth_date', 'relatives', 'occupation'], 'row_number': [1, 1, 1, 1, 1, 1, 1, 1, 1, 1, 1], 'content': ['guadalajara , jalisco , mexico', 'carlos -rrb- -lrb- b. 2006 -rrb- camila -lrb- b. 2013', 'carla hernández\\n', 'héctor arredondo -lrb- 2009-2013 -rrb-', '2010-present', 'guadalajara , jalisco , mexico', 'carla hernández', 'carla hernández', '18 february 1987', 'alejandra -rrb- -lrb- half-sister -rrb- mario alberto hernández -lrb- deceased', 'actress']}, 'context': 'carla hernández\\n'}, 'target_text': \"carla hernández -lrb- born february 18 , 1987 -rrb- is a mexican actress .\\nshe attended tv azteca 's acting class , centro de formacion actoral .\\nshe made her official acting debut in azteca 's vidas robadas , as luz and camila , the protagonist and antagonist , alongside christian bach and andrés palacios , in 2010 .\\n\"}\n",
      "{'input_text': {'table': {'column_header': ['residence', 'article_title', 'years_active', 'image', 'caption', 'notable_works', 'birth_place', 'name', 'birth_date', 'agent'], 'row_number': [1, 1, 1, 1, 1, 1, 1, 1, 1, 1], 'content': ['los angeles , california , united states', 'gunner wright\\n', '2007 & ndash ; present', 'eubank-love-2011-figur-gunner-wright-modified . jpg', 'gunner wright -lrb- 2011 -rrb-', \"'' '' dead space 2 '' , '' dead space 3 love '' '' , '' j. edgar '' ,\", 'eustis , florida , united states', 'gunner wright', '26 august 1973', 'mak company']}, 'context': 'gunner wright\\n'}, 'target_text': \"gunner wright -lrb- born august 26 , 1973 -rrb- is an american film actor known for his role in the film `` love '' and for portraying the face and voice of isaac clarke in the videogames `` dead space 2 '' and `` dead space 3 '' .\\nwright raced motorcycles competitively until the age of 21 when he moved to southern california .\\nthere he began working on fox television 's `` fastlane '' series and soon began a career in acting .\\nhe appeared in director clint eastwood 's `` j. edgar '' film .\\n\"}\n",
      "{'input_text': {'table': {'column_header': ['article_title', 'years_active', 'image', 'caption', 'name', 'birth_name', 'birth_place', 'birth_date', 'occupation', 'spouse'], 'row_number': [1, 1, 1, 1, 1, 1, 1, 1, 1, 1], 'content': ['doris roberts\\n', '1951 -- present', 'dorisrobertsdec10.jpg', 'roberts in december 2010', 'doris roberts', 'doris may green', 'st. louis , missouri , u.s.', '4 november 1925', 'actress', 'michael 1983 died e. cannata 1956 1962 divorced william goyen 1963']}, 'context': 'doris roberts\\n'}, 'target_text': \"doris roberts -lrb- born doris may green ; november 4 , 1925 -rrb- is an american character actress of film , stage , and television .\\nshe has received five emmy awards and a screen actors guild award during her acting career , which began in 1951 .\\nshe is perhaps best known for her role as raymond barone 's mother , marie barone on the sitcom `` everybody loves raymond '' -lrb- 1996 -- 2005 -rrb- .\\n\"}\n",
      "{'input_text': {'table': {'column_header': ['nickname', 'ru_nationalyears', 'ru_position', 'name', 'ru_amateuryears', 'ru_nationalteam', 'ru_clubcaps', 'ru_sevensnationalteam', 'ru_clubpoints', 'article_title', 'currentclub', 'height', 'school', 'birth_date', 'ru_nationalcaps', 'birth_place', 'ru_amateurclubs', 'ru_sevensnationalyears', 'ru_nationalpoints', 'university', 'weight', 'fullname', 'ru_clubyears', 'ru_proclubs', 'ru_sevensnationalcomp'], 'row_number': [1, 1, 1, 1, 1, 1, 1, 1, 1, 1, 1, 1, 1, 1, 1, 1, 1, 1, 1, 1, 1, 1, 1, 1, 1], 'content': ['wolfie', '2008 -- 2009', 'wing , prop', 'andrew wolff', '2001', 'philippines', '50', 'philippines', '-lrb- 185 -rrb-', 'andrew wolff\\n', 'alabang eagles', '1.88', 'woodbridge school', '13 july 1985', '4', 'shoreham-by-sea , west sussex , united kingdom', 'woodbridge rugby club', '2007 -- present', '-lrb- - -rrb-', 'university of london', '95 kg stlb on', 'andrew james penaflorida wolff', '2007 --', 'alabang eagles', '13 -lrb- 135 pts -rrb-']}, 'context': 'andrew wolff\\n'}, 'target_text': 'andrew james penaflorida wolff -lrb- born 13 july 1985 -rrb- is a uk born filipino/british rugby sevens player .\\nhe currently plays for the alabang eagles rugby club and the philippine national rugby sevens team , the philippine volcanoes .\\nhe is also mr philippines 2012 and wolff represented the philippines in the 2013 mister world pageant in kent , england , on 24 november 2012 .\\nhe placed second to become mister world first runner-up 2013 .\\n'}\n",
      "{'input_text': {'table': {'column_header': ['article_title', 'alma_mater', 'birth_place', 'name', 'parents', 'birth_date', 'death_place', 'death_date'], 'row_number': [1, 1, 1, 1, 1, 1, 1, 1], 'content': ['victor alexander wrottesley , 4th baron wrottesley\\n', 'christ church , oxford matric . 4 june 1892', 'wrottesley hall , staffordshire , england', 'baron wrottesley baron wrottesley', 'arthur denison wrottesley , 3rd baron wrottesley hon. augusta elizabeth', '18 september 1873', 'staffordshire , england', '1 september 1962']}, 'context': 'victor alexander wrottesley , 4th baron wrottesley\\n'}, 'target_text': 'sir victor alexander wrottesley , 12th baronet wrottesley , 4th baron wrottesley -lrb- 18 september 1873 -- 1 september 1962 -rrb- was a british peer .\\n'}\n"
     ]
    }
   ],
   "source": [
    "from datasets import load_dataset\n",
    "import random\n",
    "\n",
    "dataset = load_dataset(\"wiki_bio\")\n",
    "\n",
    "# sample 15 random examples from the dataset\n",
    "\n",
    "for i in range(15):\n",
    "    x = random.choice(dataset['train'])\n",
    "    print(x)"
   ]
  },
  {
   "cell_type": "code",
   "execution_count": 4,
   "metadata": {},
   "outputs": [
    {
     "data": {
      "text/plain": [
       "{'input_text': {'table': {'column_header': ['article_title',\n",
       "    'image',\n",
       "    'occupation',\n",
       "    'birth_place',\n",
       "    'name',\n",
       "    'known_for',\n",
       "    'website'],\n",
       "   'row_number': [1, 1, 1, 1, 1, 1, 1],\n",
       "   'content': ['james galea\\n',\n",
       "    'jamesgalea.jpg',\n",
       "    'magician , illusionist , actor',\n",
       "    'sydney , australia',\n",
       "    'james galea',\n",
       "    '673 king st , band of magicians',\n",
       "    '-lsb- http://www.jamesgalea.com/ www.jamesgalea.com -rsb-']},\n",
       "  'context': 'james galea\\n'},\n",
       " 'target_text': \"james galea is an australian magician and actor based in sydney and los angeles .\\nhe is also the founding member of the band of magicians , magic 's first supergroup .\\n\"}"
      ]
     },
     "execution_count": 4,
     "metadata": {},
     "output_type": "execute_result"
    }
   ],
   "source": [
    "import json\n",
    "\n",
    "with open('in-context.jsonl') as f:\n",
    "    # load each line string as a dict object\n",
    "    for line in f:\n",
    "        s = json.loads(line)\n",
    "        break\n",
    "\n",
    "s"
   ]
  }
 ],
 "metadata": {
  "kernelspec": {
   "display_name": "lab",
   "language": "python",
   "name": "python3"
  },
  "language_info": {
   "codemirror_mode": {
    "name": "ipython",
    "version": 3
   },
   "file_extension": ".py",
   "mimetype": "text/x-python",
   "name": "python",
   "nbconvert_exporter": "python",
   "pygments_lexer": "ipython3",
   "version": "3.10.13"
  }
 },
 "nbformat": 4,
 "nbformat_minor": 2
}
