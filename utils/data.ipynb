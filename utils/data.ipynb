{
 "cells": [
  {
   "cell_type": "code",
   "execution_count": null,
   "metadata": {},
   "outputs": [],
   "source": [
    "from datasets import load_dataset\n",
    "import random\n",
    "\n",
    "dataset = load_dataset(\"wiki_bio\")\n",
    "\n",
    "# sample 15 random examples from the dataset\n",
    "\n",
    "for i in range(15):\n",
    "    x = random.choice(dataset['train'])\n",
    "    print(x)"
   ]
  },
  {
   "cell_type": "code",
   "execution_count": 15,
   "metadata": {},
   "outputs": [
    {
     "data": {
      "text/plain": [
       "50"
      ]
     },
     "execution_count": 15,
     "metadata": {},
     "output_type": "execute_result"
    }
   ],
   "source": [
    "import json\n",
    "\n",
    "with open('in-context.jsonl') as f:\n",
    "    text = []\n",
    "    labels = []\n",
    "    for i,line in enumerate(f):\n",
    "        if i % 2 == 0:\n",
    "            text.append(str(json.loads(line)))\n",
    "        else:\n",
    "            labels.append(str(json.loads(line)))\n",
    "in_context = list(zip(text, labels))\n",
    "\n",
    "with open('data.jsonl') as f:\n",
    "    text = []\n",
    "    labels = []\n",
    "    for i,line in enumerate(f):\n",
    "        if i % 2 == 0:\n",
    "            text.append(str(json.loads(line)))\n",
    "        else:\n",
    "            labels.append(str(json.loads(line)))\n",
    "\n",
    "data = list(zip(text, labels))\n",
    "\n"
   ]
  },
  {
   "cell_type": "code",
   "execution_count": null,
   "metadata": {},
   "outputs": [],
   "source": [
    "# 50-list of tuples, each tuple has list of top-k and the correct label: [([top-k], label), ...]"
   ]
  }
 ],
 "metadata": {
  "kernelspec": {
   "display_name": "lab",
   "language": "python",
   "name": "python3"
  },
  "language_info": {
   "codemirror_mode": {
    "name": "ipython",
    "version": 3
   },
   "file_extension": ".py",
   "mimetype": "text/x-python",
   "name": "python",
   "nbconvert_exporter": "python",
   "pygments_lexer": "ipython3",
   "version": "3.1.undefined"
  }
 },
 "nbformat": 4,
 "nbformat_minor": 2
}
